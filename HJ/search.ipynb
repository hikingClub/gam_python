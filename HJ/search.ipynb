{
 "cells": [
  {
   "cell_type": "code",
   "execution_count": 13,
   "metadata": {},
   "outputs": [
    {
     "name": "stdout",
     "output_type": "stream",
     "text": [
      "데이터 조회 실패: 400 {\"code\":400,\"loc\":\"PROVIDER\",\"message\":{\"timestamp\":\"2024-07-23T04:12:53.403+00:00\",\"status\":400,\"error\":\"Bad Request\",\"path\":\"/search/openapi/search\"}}\n"
     ]
    }
   ],
   "source": [
    "import requests\n",
    "import json\n",
    "\n",
    "url = \" https://metalink.k-knowledge.kr/search/openapi/search\"\n",
    "api_key = \"wm9xll1zpcb1lfteph3s90y0z1dad2xkr7fsxlsa7h67z2nxp55a9414lwewa2xv\"\n",
    "\n",
    "headers = {\"Content-Type\": \"application/json\", \"api_key\": api_key}\n",
    "\n",
    "params = {\"searchKeyword\" : \"기상\"}\n",
    "\n",
    "response = requests.post(url, headers=headers, params=params)\n",
    "\n",
    "# 응답 처리\n",
    "if response.status_code == 200:\n",
    "    data = response.json()\n",
    "    print(\"데이터 조회 성공:\", data)\n",
    "else:\n",
    "    print(\"데이터 조회 실패:\", response.status_code, response.text)"
   ]
  }
 ],
 "metadata": {
  "kernelspec": {
   "display_name": "Python 3",
   "language": "python",
   "name": "python3"
  },
  "language_info": {
   "codemirror_mode": {
    "name": "ipython",
    "version": 3
   },
   "file_extension": ".py",
   "mimetype": "text/x-python",
   "name": "python",
   "nbconvert_exporter": "python",
   "pygments_lexer": "ipython3",
   "version": "3.10.4"
  }
 },
 "nbformat": 4,
 "nbformat_minor": 2
}
